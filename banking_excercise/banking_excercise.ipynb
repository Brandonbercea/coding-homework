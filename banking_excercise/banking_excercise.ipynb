{
 "cells": [
  {
   "cell_type": "markdown",
   "metadata": {},
   "source": [
    "# Banking ecxcercise\n",
    "Goal: Learn the anatomy of functions, scope, variables. Think through what actions ( functions ) you want to take and what members ( variables such a system would have ). Once the initial functinal approach is done. We will build a second one in an object oriented fashion."
   ]
  },
  {
   "cell_type": "markdown",
   "metadata": {},
   "source": [
    "# Improved version 1\n",
    "use python object literal syntax to return the new balance and the amount you deposited \n"
   ]
  },
  {
   "cell_type": "code",
   "execution_count": null,
   "metadata": {},
   "outputs": [],
   "source": [
    "balance = 0\n",
    "\n",
    "# Defining a function\n",
    "def makeDeposit(amount):\n",
    "    global balance\n",
    "\n",
    "    print(f\"The initial balance is {balance} i'm depositing {amount} dollars ...\")\n",
    "\n",
    "    balance += amount\n",
    "\n",
    "    print(f\"The new balance is {balance}\")\n",
    "\n",
    "    return balance\n",
    "\n",
    "# Invoking / calling the function\n",
    "makeDeposit(100)\n",
    "makeDeposit(500)\n",
    "\n",
    "\n",
    "\n",
    "# q: explain the parts of the function above line by line\n",
    "# a:\n",
    "# def makeDeposit(amount): - this is the function signature, it defines the function name and the parameters it takes\n",
    "#     print(f\"i'm depositing {amount} dollars\") - this is the function body, it contains the code that the function will execute\n",
    "#     return amount - this is the return statement, it returns the value of the amount variable to the caller of the function\n",
    "\n",
    "# q: how do I store balance as a global variable and update it in the makeDeposit function?\n",
    "# a: you can use the global keyword to access and modify global variables in a function\n",
    "#    you can define a global variable named balance and update it in the makeDeposit function\n",
    "\n",
    "# q: how do I install jupyter notebooks with anaconda? \n",
    "# a: you can install jupyter notebooks with anaconda by running the following command in the anaconda prompt:\n",
    "#    conda install jupyter\n",
    "#   this will install jupyter notebooks along with all the dependencies it needs to run\n",
    "#  you can then launch jupyter notebooks by running the following command in the anaconda prompt:\n",
    "#    jupyter notebook\n",
    "\n"
   ]
  },
  {
   "cell_type": "markdown",
   "metadata": {},
   "source": [
    "# Improved version 2\n",
    "Define an Account class and do the above in an object oriented fashion"
   ]
  }
 ],
 "metadata": {
  "kernelspec": {
   "display_name": "Python 3 (ipykernel)",
   "language": "python",
   "name": "python3"
  },
  "language_info": {
   "codemirror_mode": {
    "name": "ipython",
    "version": 3
   },
   "file_extension": ".py",
   "mimetype": "text/x-python",
   "name": "python",
   "nbconvert_exporter": "python",
   "pygments_lexer": "ipython3",
   "version": "3.12.5"
  }
 },
 "nbformat": 4,
 "nbformat_minor": 2
}
