{
 "cells": [
  {
   "cell_type": "markdown",
   "id": "94a3828c",
   "metadata": {},
   "source": [
    "# List the homework requirements here\n",
    "\n",
    "list the objects i need: \n",
    "* Car, \n",
    "* Engine, wheels, Steering system, Transmission, Brakes, Fuel system, sounds,"
   ]
  },
  {
   "cell_type": "code",
   "execution_count": 303,
   "id": "540854c3",
   "metadata": {},
   "outputs": [],
   "source": [
    "class Car:\n",
    "    def __init__(self, make, model, year, color, engine, mileage, price, condition=\"clean\"):\n",
    "        self.make = make\n",
    "        self.model = model\n",
    "        self.year = year\n",
    "        self.color = color\n",
    "        self.engine = engine\n",
    "        self.mileage = mileage\n",
    "        self.price = price\n",
    "        self.condition = condition\n",
    "\n",
    "    def get_price(self):\n",
    "        print(\"The price of the car is: \", self.price)\n",
    "        return self.price\n",
    "    \n",
    "    def turn_on (self):\n",
    "        self.engine.start()\n",
    "        print(\"The car is on\")\n",
    "    \n",
    "def shift (self, direction):\n",
    "    self.transmission.shift(direction)\n",
    "\n",
    "\n",
    "\n"
   ]
  },
  {
   "cell_type": "code",
   "execution_count": 304,
   "id": "bd665f7e",
   "metadata": {},
   "outputs": [],
   "source": [
    "class Transmission:\n",
    "    def __init__(self, type=\"manual\"):\n",
    "        current_gear = 0\n",
    "        self.type = type\n",
    "\n",
    "    def shift(self, direction):\n",
    "        if direction == \"up\":\n",
    "            self.current_gear += 1\n",
    "        elif direction == \"down\":\n",
    "            self.current_gear -= 1\n",
    "        else:\n",
    "            print(\"Invalid direction\")\n",
    "        print(\"The car is shifting \", direction)"
   ]
  },
  {
   "cell_type": "code",
   "execution_count": 305,
   "id": "46d7a3cc",
   "metadata": {},
   "outputs": [
    {
     "name": "stdout",
     "output_type": "stream",
     "text": [
      "Make: Audi\n"
     ]
    }
   ],
   "source": [
    "# This is an instance\n",
    "r8 = Car(\"Audi\", \"R8\", 2020, \"black\", \"V8\", 1000, 150000)\n",
    "\n",
    "print(f\"Make: {r8.make}\")"
   ]
  },
  {
   "cell_type": "code",
   "execution_count": 306,
   "id": "f9bdd48b",
   "metadata": {},
   "outputs": [],
   "source": [
    "class Engine:\n",
    "    def __init__(self, fuel_type, cylinders, horsepower):\n",
    "        self.fuel_type = fuel_type\n",
    "        self.cylinders = cylinders\n",
    "        self.horsepower = horsepower\n",
    "\n",
    "    def start(self):\n",
    "        print(\"The engine has started\")"
   ]
  },
  {
   "cell_type": "code",
   "execution_count": 307,
   "id": "b00ee3c7",
   "metadata": {},
   "outputs": [
    {
     "name": "stdout",
     "output_type": "stream",
     "text": [
      "Fuel type: gasoline\n"
     ]
    }
   ],
   "source": [
    "# This is an instance\n",
    "v8 = Engine(\"gasoline\", 8, 500)\n",
    "man_trans = Transmission(\"manual\")\n",
    "print(f\"Fuel type: {v8.fuel_type}\")"
   ]
  },
  {
   "cell_type": "code",
   "execution_count": 308,
   "id": "cd787724",
   "metadata": {},
   "outputs": [
    {
     "name": "stdout",
     "output_type": "stream",
     "text": [
      "Engine horsepower: 500\n",
      "manual Transmission\n"
     ]
    }
   ],
   "source": [
    "# This is an instance\n",
    "red_R8 = Car(\"audi\", \"r8\", 2020, \"red\", v8, man_trans, 1000, 150000)\n",
    "print(f\"Engine horsepower: {red_R8.engine.horsepower}\")\n",
    "print(f\"manual Transmission\")"
   ]
  },
  {
   "cell_type": "code",
   "execution_count": 309,
   "id": "5d224ba9",
   "metadata": {},
   "outputs": [
    {
     "name": "stdout",
     "output_type": "stream",
     "text": [
      "year: 2020\n"
     ]
    }
   ],
   "source": [
    "black_R8 = Car(\"audi\", \"r8\", 2020, \"black\", v8, 1000, 150000)\n",
    "print(f\"year: {black_R8.year}\")"
   ]
  },
  {
   "cell_type": "code",
   "execution_count": 310,
   "id": "a5da2067",
   "metadata": {},
   "outputs": [
    {
     "name": "stdout",
     "output_type": "stream",
     "text": [
      "The price of the car is:  150000\n",
      "price: 150000\n"
     ]
    }
   ],
   "source": [
    "black_R8.get_price()\n",
    "print(f\"price: {black_R8.price}\")"
   ]
  },
  {
   "cell_type": "code",
   "execution_count": 311,
   "id": "ca5ac078",
   "metadata": {},
   "outputs": [
    {
     "name": "stdout",
     "output_type": "stream",
     "text": [
      "The engine has started\n",
      "The car is on\n"
     ]
    },
    {
     "ename": "AttributeError",
     "evalue": "'Car' object has no attribute 'shift_direction'",
     "output_type": "error",
     "traceback": [
      "\u001b[1;31m---------------------------------------------------------------------------\u001b[0m",
      "\u001b[1;31mAttributeError\u001b[0m                            Traceback (most recent call last)",
      "Cell \u001b[1;32mIn[311], line 2\u001b[0m\n\u001b[0;32m      1\u001b[0m red_R8\u001b[38;5;241m.\u001b[39mturn_on()\n\u001b[1;32m----> 2\u001b[0m red_R8\u001b[38;5;241m.\u001b[39mshift_direction(\u001b[38;5;124m\"\u001b[39m\u001b[38;5;124mup\u001b[39m\u001b[38;5;124m\"\u001b[39m)\n",
      "\u001b[1;31mAttributeError\u001b[0m: 'Car' object has no attribute 'shift_direction'"
     ]
    }
   ],
   "source": [
    "red_R8.turn_on()\n",
    "red_R8.shift_direction(\"up\") \n",
    "\n",
    "# This is an instance"
   ]
  },
  {
   "cell_type": "code",
   "execution_count": null,
   "id": "dbb34d5e",
   "metadata": {},
   "outputs": [],
   "source": []
  }
 ],
 "metadata": {
  "kernelspec": {
   "display_name": "Python 3 (ipykernel)",
   "language": "python",
   "name": "python3"
  },
  "language_info": {
   "codemirror_mode": {
    "name": "ipython",
    "version": 3
   },
   "file_extension": ".py",
   "mimetype": "text/x-python",
   "name": "python",
   "nbconvert_exporter": "python",
   "pygments_lexer": "ipython3",
   "version": "3.12.4"
  }
 },
 "nbformat": 4,
 "nbformat_minor": 5
}
