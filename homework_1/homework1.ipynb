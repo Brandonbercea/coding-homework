{
 "cells": [
  {
   "cell_type": "markdown",
   "id": "94a3828c",
   "metadata": {},
   "source": [
    "# List the homework requirements here\n"
   ]
  },
  {
   "cell_type": "code",
   "execution_count": null,
   "id": "344bd871",
   "metadata": {},
   "outputs": [],
   "source": [
    "print (\"hello world\")\n"
   ]
  },
  {
   "cell_type": "code",
   "execution_count": null,
   "id": "7c9b40fb-b6b7-4cc0-b511-dd1a40afbbc2",
   "metadata": {},
   "outputs": [],
   "source": [
    "print(\"hello world\")"
   ]
  },
  {
   "cell_type": "code",
   "execution_count": null,
   "id": "ef7caad1-0246-4729-9973-0907637c27ee",
   "metadata": {},
   "outputs": [],
   "source": [
    "# Define a string\n",
    "my_string = \"Hello, world!\"\n",
    "\n",
    "# Calculate the length of the string\n",
    "length = len(my_string)\n",
    "\n",
    "# Print the length\n",
    "print(\"The length of the string is:\", length)"
   ]
  },
  {
   "cell_type": "code",
   "execution_count": null,
   "id": "24e18bcd-9ed9-433d-b207-ff7f61a34819",
   "metadata": {},
   "outputs": [],
   "source": [
    "url = 'https://www.cnn.com'\n",
    "response = requests.get(url)\n",
    "\n",
    "print(response)"
   ]
  },
  {
   "cell_type": "code",
   "execution_count": 180,
   "id": "a3badf43-a3ed-4aa9-b1e5-50b27a536aa3",
   "metadata": {},
   "outputs": [],
   "source": [
    "family_members=[\"mike\", \"lavi\", \"brandon\", \"katheryn\", \"ava\", \"noah\"]"
   ]
  },
  {
   "cell_type": "code",
   "execution_count": 181,
   "id": "ee5722d5-5fed-41bd-9f55-fdc0cf087cc2",
   "metadata": {},
   "outputs": [],
   "source": [
    "capitalized_members = [member.capitalize() for member in family_members]"
   ]
  },
  {
   "cell_type": "code",
   "execution_count": null,
   "id": "7551ff6d-b0bf-4be7-ab0e-e7241c7bb6cd",
   "metadata": {},
   "outputs": [],
   "source": [
    "print(capitalized_members)"
   ]
  },
  {
   "cell_type": "code",
   "execution_count": null,
   "id": "d9fb350a-1ac2-434e-968e-332e2f5237a6",
   "metadata": {},
   "outputs": [],
   "source": [
    "print(len(family_members))"
   ]
  },
  {
   "cell_type": "code",
   "execution_count": null,
   "id": "93b6e532-2901-487e-84bc-43d2657a0848",
   "metadata": {},
   "outputs": [],
   "source": [
    "print(family_members[2])"
   ]
  },
  {
   "cell_type": "code",
   "execution_count": null,
   "id": "1bec3518-6dc3-4d3b-8366-6c5cf25a48dc",
   "metadata": {},
   "outputs": [],
   "source": [
    "family_member= family_members[0]\n",
    "\n",
    "def print_name(fm):\n",
    "    print(fm)\n",
    "\n",
    "print_name(family_member)"
   ]
  },
  {
   "cell_type": "code",
   "execution_count": null,
   "id": "7ade5f54-e224-47c3-a882-b1abf7e08963",
   "metadata": {},
   "outputs": [],
   "source": [
    "family_members = [\"dad\", \"mom\", \"me\", \"kathy\", \"ava\", \"noah\"]\n",
    "\n",
    "def print_family_member(member):\n",
    "    for member in family_members:\n",
    "        print(member)\n",
    "\n",
    "print_family_member(family_members)"
   ]
  },
  {
   "cell_type": "code",
   "execution_count": null,
   "id": "d4ecc524-1842-4f2d-84c0-3f3552b8031d",
   "metadata": {},
   "outputs": [],
   "source": [
    "family_members = [\"dad\", \"mom\", \"me\", \"kathy\", \"ava\", \"noah\"]\n",
    "\n",
    "class familyMember:\n",
    "    def __init__(self, name):\n",
    "        self.name = name \n",
    "\n",
    "    def greet(self):\n",
    "        print(f\"Hello, {self.name}!\")\n",
    "        \n",
    "\n",
    "def create_family_members(name):\n",
    "    # iterate through the list of family_members with a list comprehension and create a new familyMember object for each name\n",
    "    _family_members = [familyMember(name) for name in family_members]\n",
    "\n",
    "    # iterate through the list of familyMember objects and call the greet method for each one\n",
    "    for member in _family_members:\n",
    "        member.greet()\n",
    "\n",
    "    return _family_members\n",
    "\n",
    "family_members_list = create_family_members(family_members)\n",
    "\n",
    "print(family_members_list)"
   ]
  },
  {
   "cell_type": "code",
   "execution_count": 31,
   "id": "e9b852bd-162b-4a9d-8438-718a9892950f",
   "metadata": {},
   "outputs": [
    {
     "name": "stdout",
     "output_type": "stream",
     "text": [
      "New Balance is: $500\n",
      "New Balance is: $1200\n"
     ]
    }
   ],
   "source": [
    "balance = 0\n",
    "\n",
    "def make_deposit(credit, balance):\n",
    "    balance = balance + credit\n",
    "    print(f\"New Balance is: ${balance}\")\n",
    "\n",
    "    return balance\n",
    "\n",
    "balance = make_deposit(500, balance) \n",
    "balance = make_deposit(700, balance)"
   ]
  },
  {
   "cell_type": "code",
   "execution_count": null,
   "id": "b09fd2b3-20bc-44ac-a60c-2405d3a34bb2",
   "metadata": {},
   "outputs": [],
   "source": []
  }
 ],
 "metadata": {
  "kernelspec": {
   "display_name": "Python 3 (ipykernel)",
   "language": "python",
   "name": "python3"
  },
  "language_info": {
   "codemirror_mode": {
    "name": "ipython",
    "version": 3
   },
   "file_extension": ".py",
   "mimetype": "text/x-python",
   "name": "python",
   "nbconvert_exporter": "python",
   "pygments_lexer": "ipython3",
   "version": "3.12.4"
  }
 },
 "nbformat": 4,
 "nbformat_minor": 5
}
